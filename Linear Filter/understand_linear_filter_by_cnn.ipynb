{
 "cells": [
  {
   "cell_type": "code",
   "execution_count": 1,
   "metadata": {},
   "outputs": [
    {
     "name": "stderr",
     "output_type": "stream",
     "text": [
      "/Users/quansun/anaconda3/lib/python3.6/site-packages/h5py/__init__.py:36: FutureWarning: Conversion of the second argument of issubdtype from `float` to `np.floating` is deprecated. In future, it will be treated as `np.float64 == np.dtype(float).type`.\n",
      "  from ._conv import register_converters as _register_converters\n",
      "Using TensorFlow backend.\n"
     ]
    }
   ],
   "source": [
    "import numpy as np\n",
    "import os\n",
    "import cv2\n",
    "import keras\n",
    "from keras.models import Sequential, Model, load_model\n",
    "from keras.layers import Conv2D\n",
    "from keras import optimizers\n",
    "from keras.callbacks import ModelCheckpoint\n",
    "import matplotlib.pyplot as plt\n",
    "%matplotlib inline\n",
    "plt.style.use('seaborn-white')"
   ]
  },
  {
   "cell_type": "code",
   "execution_count": 2,
   "metadata": {},
   "outputs": [],
   "source": [
    "# define a function to transform color images into grayscale\n",
    "def make_grayscale(img):\n",
    "    gray_img = cv2.cvtColor(img,cv2.COLOR_BGR2GRAY)\n",
    "    return gray_img\n",
    "\n",
    "# define a function to sobel filter images via x axis\n",
    "# you can change the filter\n",
    "def filter_sobelx(img):\n",
    "    sobelx = cv2.Sobel(img,cv2.CV_32F,1,0,ksize=3)\n",
    "#   sobely = cv2.Sobel(img,cv2.CV_32F,0,1,ksize=3)\n",
    "    return sobelx\n",
    "\n",
    "# define a function to transform pixel values into [0,1]\n",
    "def normalizeImage(img):\n",
    "    img = img/255.0\n",
    "    return img\n",
    "\n",
    "# define a function to perform MinMaxScaler\n",
    "def MinMaxScaler(img):\n",
    "    img = (img-np.min(img))/(np.max(img)-np.min(img))\n",
    "    return img"
   ]
  },
  {
   "cell_type": "code",
   "execution_count": 7,
   "metadata": {},
   "outputs": [],
   "source": [
    "# get paths to the training images\n",
    "data_path = 'data'\n",
    "\n",
    "folderpaths = [os.path.join(data_path,path) for path in os.listdir(data_path) if os.path.isdir(os.path.join(data_path,path))]\n",
    "imagepaths = []\n",
    "\n",
    "for folderpath in folderpaths:\n",
    "    temp = [os.path.join(folderpath,filename) for filename in os.listdir(folderpath) if filename.endswith('.jpg')]\n",
    "    imagepaths += temp"
   ]
  },
  {
   "cell_type": "code",
   "execution_count": 10,
   "metadata": {},
   "outputs": [],
   "source": [
    "# load and process training data\n",
    "images = []\n",
    "grayimages = []\n",
    "filteredimages = []\n",
    "\n",
    "np.random.shuffle(imagepaths)\n",
    "for imagepath in imagepaths:\n",
    "    img = cv2.imread(imagepath).astype(np.float32)\n",
    "    img = normalizeImage(img)\n",
    "    gray_img = make_grayscale(img)\n",
    "    filtered_img = filter_sobelx(gray_img)\n",
    "    images.append(img)\n",
    "    grayimages.append(gray_img)\n",
    "    filteredimages.append(filtered_img)"
   ]
  },
  {
   "cell_type": "code",
   "execution_count": 13,
   "metadata": {},
   "outputs": [],
   "source": [
    "images = np.array(images).astype('float32')\n",
    "grayimages = np.array(grayimages).astype('float32')\n",
    "filteredimages = np.array(filteredimages).astype('float32')"
   ]
  },
  {
   "cell_type": "code",
   "execution_count": 17,
   "metadata": {},
   "outputs": [
    {
     "name": "stdout",
     "output_type": "stream",
     "text": [
      "The shape of images: (2688, 256, 256, 3)\n",
      "The shape of grayimages: (2688, 256, 256)\n",
      "The shape of filteredimages: (2688, 256, 256)\n"
     ]
    }
   ],
   "source": [
    "print('The shape of images:', images.shape)\n",
    "print('The shape of grayimages:', grayimages.shape)\n",
    "print('The shape of filteredimages:', filteredimages.shape)"
   ]
  },
  {
   "cell_type": "code",
   "execution_count": 18,
   "metadata": {},
   "outputs": [],
   "source": [
    "# we need change the shape of grayimages and filterediamges\n",
    "grayimages = grayimages.reshape(-1,256,256,1)\n",
    "filteredimages = filteredimages.reshape(-1,256,256,1)"
   ]
  },
  {
   "cell_type": "code",
   "execution_count": 20,
   "metadata": {},
   "outputs": [
    {
     "data": {
      "text/plain": [
       "True"
      ]
     },
     "execution_count": 20,
     "metadata": {},
     "output_type": "execute_result"
    }
   ],
   "source": [
    "margin = np.ones(shape=(256,10,3))\n",
    "combined_image = np.hstack((img,margin,np.dstack((gray_img,)*3),margin,np.dstack((normalizeImage(filtered_img),)*3)))\n",
    "\n",
    "cv2.imwrite('sobelx.png',(255*combined_image).astype(np.uint8))"
   ]
  },
  {
   "cell_type": "code",
   "execution_count": 22,
   "metadata": {},
   "outputs": [
    {
     "name": "stdout",
     "output_type": "stream",
     "text": [
      "_________________________________________________________________\n",
      "Layer (type)                 Output Shape              Param #   \n",
      "=================================================================\n",
      "conv2d_2 (Conv2D)            (None, 256, 256, 1)       10        \n",
      "=================================================================\n",
      "Total params: 10\n",
      "Trainable params: 10\n",
      "Non-trainable params: 0\n",
      "_________________________________________________________________\n"
     ]
    }
   ],
   "source": [
    "model = Sequential()\n",
    "model.add(Conv2D(1,(3,3),padding='same',input_shape=(256,256,1)))\n",
    "model.compile(optimizer=optimizers.SGD(lr=1e-2,decay=1e-6,momentum=0.9,nesterov=True),loss='mean_squared_error',metrics=['accuracy'])\n",
    "model.summary()"
   ]
  },
  {
   "cell_type": "code",
   "execution_count": 23,
   "metadata": {
    "scrolled": true
   },
   "outputs": [
    {
     "name": "stdout",
     "output_type": "stream",
     "text": [
      "Train on 2150 samples, validate on 538 samples\n",
      "Epoch 1/1\n",
      "2150/2150 [==============================] - 9s 4ms/step - loss: 0.0540 - acc: 0.0489 - val_loss: 0.0273 - val_acc: 0.0501\n",
      "Train on 2150 samples, validate on 538 samples\n",
      "Epoch 1/1\n",
      "2150/2150 [==============================] - 8s 4ms/step - loss: 0.0253 - acc: 0.0475 - val_loss: 0.0240 - val_acc: 0.0499\n",
      "Train on 2150 samples, validate on 538 samples\n",
      "Epoch 1/1\n",
      "2150/2150 [==============================] - 9s 4ms/step - loss: 0.0242 - acc: 0.0474 - val_loss: 0.0237 - val_acc: 0.0498\n",
      "Train on 2150 samples, validate on 538 samples\n",
      "Epoch 1/1\n",
      "2150/2150 [==============================] - 9s 4ms/step - loss: 0.0240 - acc: 0.0474 - val_loss: 0.0236 - val_acc: 0.0498\n",
      "Train on 2150 samples, validate on 538 samples\n",
      "Epoch 1/1\n",
      "2150/2150 [==============================] - 9s 4ms/step - loss: 0.0239 - acc: 0.0474 - val_loss: 0.0235 - val_acc: 0.0498\n",
      "Train on 2150 samples, validate on 538 samples\n",
      "Epoch 1/1\n",
      "2150/2150 [==============================] - 9s 4ms/step - loss: 0.0238 - acc: 0.0474 - val_loss: 0.0234 - val_acc: 0.0498\n",
      "Train on 2150 samples, validate on 538 samples\n",
      "Epoch 1/1\n",
      "2150/2150 [==============================] - 9s 4ms/step - loss: 0.0238 - acc: 0.0474 - val_loss: 0.0234 - val_acc: 0.0498\n",
      "Train on 2150 samples, validate on 538 samples\n",
      "Epoch 1/1\n",
      "2150/2150 [==============================] - 9s 4ms/step - loss: 0.0237 - acc: 0.0474 - val_loss: 0.0234 - val_acc: 0.0499\n",
      "Train on 2150 samples, validate on 538 samples\n",
      "Epoch 1/1\n",
      "2150/2150 [==============================] - 9s 4ms/step - loss: 0.0237 - acc: 0.0474 - val_loss: 0.0234 - val_acc: 0.0498\n",
      "Train on 2150 samples, validate on 538 samples\n",
      "Epoch 1/1\n",
      "2150/2150 [==============================] - 9s 4ms/step - loss: 0.0237 - acc: 0.0474 - val_loss: 0.0234 - val_acc: 0.0498\n",
      "Train on 2150 samples, validate on 538 samples\n",
      "Epoch 1/1\n",
      "2150/2150 [==============================] - 10s 4ms/step - loss: 0.0237 - acc: 0.0474 - val_loss: 0.0234 - val_acc: 0.0498\n",
      "Train on 2150 samples, validate on 538 samples\n",
      "Epoch 1/1\n",
      "2150/2150 [==============================] - 9s 4ms/step - loss: 0.0237 - acc: 0.0474 - val_loss: 0.0234 - val_acc: 0.0498\n",
      "Train on 2150 samples, validate on 538 samples\n",
      "Epoch 1/1\n",
      "2150/2150 [==============================] - 9s 4ms/step - loss: 0.0237 - acc: 0.0474 - val_loss: 0.0234 - val_acc: 0.0498\n",
      "Train on 2150 samples, validate on 538 samples\n",
      "Epoch 1/1\n",
      "2150/2150 [==============================] - 9s 4ms/step - loss: 0.0237 - acc: 0.0474 - val_loss: 0.0234 - val_acc: 0.0498\n",
      "Train on 2150 samples, validate on 538 samples\n",
      "Epoch 1/1\n",
      "2150/2150 [==============================] - 9s 4ms/step - loss: 0.0237 - acc: 0.0474 - val_loss: 0.0234 - val_acc: 0.0499\n",
      "Train on 2150 samples, validate on 538 samples\n",
      "Epoch 1/1\n",
      "2150/2150 [==============================] - 9s 4ms/step - loss: 0.0237 - acc: 0.0474 - val_loss: 0.0234 - val_acc: 0.0498\n",
      "Train on 2150 samples, validate on 538 samples\n",
      "Epoch 1/1\n",
      "2150/2150 [==============================] - 9s 4ms/step - loss: 0.0237 - acc: 0.0474 - val_loss: 0.0234 - val_acc: 0.0499\n",
      "Train on 2150 samples, validate on 538 samples\n",
      "Epoch 1/1\n",
      "2150/2150 [==============================] - 9s 4ms/step - loss: 0.0237 - acc: 0.0474 - val_loss: 0.0234 - val_acc: 0.0498\n",
      "Train on 2150 samples, validate on 538 samples\n",
      "Epoch 1/1\n",
      "2150/2150 [==============================] - 9s 4ms/step - loss: 0.0237 - acc: 0.0474 - val_loss: 0.0234 - val_acc: 0.0499\n",
      "Train on 2150 samples, validate on 538 samples\n",
      "Epoch 1/1\n",
      "2150/2150 [==============================] - 9s 4ms/step - loss: 0.0237 - acc: 0.0474 - val_loss: 0.0234 - val_acc: 0.0499\n",
      "Train on 2150 samples, validate on 538 samples\n",
      "Epoch 1/1\n",
      "2150/2150 [==============================] - 9s 4ms/step - loss: 0.0237 - acc: 0.0474 - val_loss: 0.0234 - val_acc: 0.0499\n",
      "Train on 2150 samples, validate on 538 samples\n",
      "Epoch 1/1\n",
      "2150/2150 [==============================] - 9s 4ms/step - loss: 0.0237 - acc: 0.0474 - val_loss: 0.0234 - val_acc: 0.0499\n",
      "Train on 2150 samples, validate on 538 samples\n",
      "Epoch 1/1\n",
      "2150/2150 [==============================] - 9s 4ms/step - loss: 0.0237 - acc: 0.0474 - val_loss: 0.0234 - val_acc: 0.0499\n",
      "Train on 2150 samples, validate on 538 samples\n",
      "Epoch 1/1\n",
      "2150/2150 [==============================] - 9s 4ms/step - loss: 0.0237 - acc: 0.0474 - val_loss: 0.0234 - val_acc: 0.0499\n",
      "Train on 2150 samples, validate on 538 samples\n",
      "Epoch 1/1\n",
      "2150/2150 [==============================] - 9s 4ms/step - loss: 0.0237 - acc: 0.0474 - val_loss: 0.0234 - val_acc: 0.0499\n",
      "Train on 2150 samples, validate on 538 samples\n",
      "Epoch 1/1\n",
      "2150/2150 [==============================] - 9s 4ms/step - loss: 0.0237 - acc: 0.0474 - val_loss: 0.0234 - val_acc: 0.0499\n",
      "Train on 2150 samples, validate on 538 samples\n",
      "Epoch 1/1\n",
      "2150/2150 [==============================] - 9s 4ms/step - loss: 0.0237 - acc: 0.0474 - val_loss: 0.0234 - val_acc: 0.0499\n",
      "Train on 2150 samples, validate on 538 samples\n",
      "Epoch 1/1\n",
      "2150/2150 [==============================] - 9s 4ms/step - loss: 0.0237 - acc: 0.0474 - val_loss: 0.0234 - val_acc: 0.0499\n",
      "Train on 2150 samples, validate on 538 samples\n",
      "Epoch 1/1\n",
      "2150/2150 [==============================] - 9s 4ms/step - loss: 0.0237 - acc: 0.0474 - val_loss: 0.0234 - val_acc: 0.0499\n",
      "Train on 2150 samples, validate on 538 samples\n",
      "Epoch 1/1\n",
      "2150/2150 [==============================] - 9s 4ms/step - loss: 0.0237 - acc: 0.0474 - val_loss: 0.0234 - val_acc: 0.0499\n",
      "Train on 2150 samples, validate on 538 samples\n",
      "Epoch 1/1\n",
      "2150/2150 [==============================] - 9s 4ms/step - loss: 0.0237 - acc: 0.0474 - val_loss: 0.0234 - val_acc: 0.0499\n",
      "Train on 2150 samples, validate on 538 samples\n",
      "Epoch 1/1\n",
      "2150/2150 [==============================] - 9s 4ms/step - loss: 0.0237 - acc: 0.0474 - val_loss: 0.0234 - val_acc: 0.0499\n",
      "Train on 2150 samples, validate on 538 samples\n",
      "Epoch 1/1\n",
      "2150/2150 [==============================] - 9s 4ms/step - loss: 0.0237 - acc: 0.0474 - val_loss: 0.0234 - val_acc: 0.0499\n",
      "Train on 2150 samples, validate on 538 samples\n",
      "Epoch 1/1\n",
      "2150/2150 [==============================] - 9s 4ms/step - loss: 0.0237 - acc: 0.0474 - val_loss: 0.0234 - val_acc: 0.0499\n",
      "Train on 2150 samples, validate on 538 samples\n",
      "Epoch 1/1\n",
      "2150/2150 [==============================] - 9s 4ms/step - loss: 0.0237 - acc: 0.0474 - val_loss: 0.0234 - val_acc: 0.0499\n",
      "Train on 2150 samples, validate on 538 samples\n",
      "Epoch 1/1\n",
      "2150/2150 [==============================] - 9s 4ms/step - loss: 0.0237 - acc: 0.0474 - val_loss: 0.0234 - val_acc: 0.0499\n",
      "Train on 2150 samples, validate on 538 samples\n",
      "Epoch 1/1\n",
      "2150/2150 [==============================] - 9s 4ms/step - loss: 0.0237 - acc: 0.0474 - val_loss: 0.0234 - val_acc: 0.0499\n",
      "Train on 2150 samples, validate on 538 samples\n",
      "Epoch 1/1\n",
      "2150/2150 [==============================] - 9s 4ms/step - loss: 0.0237 - acc: 0.0474 - val_loss: 0.0234 - val_acc: 0.0499\n",
      "Train on 2150 samples, validate on 538 samples\n",
      "Epoch 1/1\n",
      "2150/2150 [==============================] - 10s 4ms/step - loss: 0.0237 - acc: 0.0474 - val_loss: 0.0234 - val_acc: 0.0499\n",
      "Train on 2150 samples, validate on 538 samples\n",
      "Epoch 1/1\n",
      "2150/2150 [==============================] - 9s 4ms/step - loss: 0.0237 - acc: 0.0474 - val_loss: 0.0234 - val_acc: 0.0499\n",
      "Train on 2150 samples, validate on 538 samples\n",
      "Epoch 1/1\n",
      "2150/2150 [==============================] - 9s 4ms/step - loss: 0.0237 - acc: 0.0474 - val_loss: 0.0234 - val_acc: 0.0499\n",
      "Train on 2150 samples, validate on 538 samples\n",
      "Epoch 1/1\n",
      "2150/2150 [==============================] - 9s 4ms/step - loss: 0.0237 - acc: 0.0474 - val_loss: 0.0234 - val_acc: 0.0499\n",
      "Train on 2150 samples, validate on 538 samples\n",
      "Epoch 1/1\n",
      "2150/2150 [==============================] - 9s 4ms/step - loss: 0.0237 - acc: 0.0474 - val_loss: 0.0234 - val_acc: 0.0499\n",
      "Train on 2150 samples, validate on 538 samples\n",
      "Epoch 1/1\n",
      "2150/2150 [==============================] - 9s 4ms/step - loss: 0.0237 - acc: 0.0474 - val_loss: 0.0234 - val_acc: 0.0499\n",
      "Train on 2150 samples, validate on 538 samples\n",
      "Epoch 1/1\n",
      "2150/2150 [==============================] - 9s 4ms/step - loss: 0.0237 - acc: 0.0474 - val_loss: 0.0234 - val_acc: 0.0499\n",
      "Train on 2150 samples, validate on 538 samples\n",
      "Epoch 1/1\n"
     ]
    },
    {
     "name": "stdout",
     "output_type": "stream",
     "text": [
      "2150/2150 [==============================] - 10s 5ms/step - loss: 0.0237 - acc: 0.0474 - val_loss: 0.0234 - val_acc: 0.0499\n",
      "Train on 2150 samples, validate on 538 samples\n",
      "Epoch 1/1\n",
      "2150/2150 [==============================] - 10s 4ms/step - loss: 0.0237 - acc: 0.0474 - val_loss: 0.0234 - val_acc: 0.0498\n",
      "Train on 2150 samples, validate on 538 samples\n",
      "Epoch 1/1\n",
      "2150/2150 [==============================] - 10s 5ms/step - loss: 0.0237 - acc: 0.0474 - val_loss: 0.0234 - val_acc: 0.0498\n",
      "Train on 2150 samples, validate on 538 samples\n",
      "Epoch 1/1\n",
      "2150/2150 [==============================] - 9s 4ms/step - loss: 0.0237 - acc: 0.0474 - val_loss: 0.0234 - val_acc: 0.0499\n",
      "Train on 2150 samples, validate on 538 samples\n",
      "Epoch 1/1\n",
      "2150/2150 [==============================] - 9s 4ms/step - loss: 0.0237 - acc: 0.0474 - val_loss: 0.0234 - val_acc: 0.0499\n",
      "Train on 2150 samples, validate on 538 samples\n",
      "Epoch 1/1\n",
      "2150/2150 [==============================] - 9s 4ms/step - loss: 0.0237 - acc: 0.0474 - val_loss: 0.0234 - val_acc: 0.0499\n",
      "Train on 2150 samples, validate on 538 samples\n",
      "Epoch 1/1\n",
      "2150/2150 [==============================] - 9s 4ms/step - loss: 0.0237 - acc: 0.0474 - val_loss: 0.0234 - val_acc: 0.0499\n",
      "Train on 2150 samples, validate on 538 samples\n",
      "Epoch 1/1\n",
      "2150/2150 [==============================] - 10s 4ms/step - loss: 0.0237 - acc: 0.0474 - val_loss: 0.0234 - val_acc: 0.0499\n",
      "Train on 2150 samples, validate on 538 samples\n",
      "Epoch 1/1\n",
      "2150/2150 [==============================] - 9s 4ms/step - loss: 0.0237 - acc: 0.0474 - val_loss: 0.0234 - val_acc: 0.0499\n",
      "Train on 2150 samples, validate on 538 samples\n",
      "Epoch 1/1\n",
      "2150/2150 [==============================] - 9s 4ms/step - loss: 0.0237 - acc: 0.0474 - val_loss: 0.0234 - val_acc: 0.0499\n",
      "Train on 2150 samples, validate on 538 samples\n",
      "Epoch 1/1\n",
      "2150/2150 [==============================] - 10s 5ms/step - loss: 0.0237 - acc: 0.0474 - val_loss: 0.0234 - val_acc: 0.0499\n",
      "Train on 2150 samples, validate on 538 samples\n",
      "Epoch 1/1\n",
      "2150/2150 [==============================] - 10s 4ms/step - loss: 0.0237 - acc: 0.0474 - val_loss: 0.0234 - val_acc: 0.0499\n",
      "Train on 2150 samples, validate on 538 samples\n",
      "Epoch 1/1\n",
      "2150/2150 [==============================] - 9s 4ms/step - loss: 0.0237 - acc: 0.0474 - val_loss: 0.0234 - val_acc: 0.0499\n",
      "Train on 2150 samples, validate on 538 samples\n",
      "Epoch 1/1\n",
      "2150/2150 [==============================] - 9s 4ms/step - loss: 0.0237 - acc: 0.0474 - val_loss: 0.0234 - val_acc: 0.0499\n",
      "Train on 2150 samples, validate on 538 samples\n",
      "Epoch 1/1\n",
      "2150/2150 [==============================] - 9s 4ms/step - loss: 0.0237 - acc: 0.0474 - val_loss: 0.0234 - val_acc: 0.0498\n",
      "Train on 2150 samples, validate on 538 samples\n",
      "Epoch 1/1\n",
      "2150/2150 [==============================] - 9s 4ms/step - loss: 0.0237 - acc: 0.0474 - val_loss: 0.0234 - val_acc: 0.0498\n",
      "Train on 2150 samples, validate on 538 samples\n",
      "Epoch 1/1\n",
      "2150/2150 [==============================] - 10s 5ms/step - loss: 0.0237 - acc: 0.0474 - val_loss: 0.0234 - val_acc: 0.0499\n",
      "Train on 2150 samples, validate on 538 samples\n",
      "Epoch 1/1\n",
      "2150/2150 [==============================] - 10s 4ms/step - loss: 0.0237 - acc: 0.0474 - val_loss: 0.0234 - val_acc: 0.0499\n",
      "Train on 2150 samples, validate on 538 samples\n",
      "Epoch 1/1\n",
      "2150/2150 [==============================] - 9s 4ms/step - loss: 0.0237 - acc: 0.0474 - val_loss: 0.0234 - val_acc: 0.0499\n",
      "Train on 2150 samples, validate on 538 samples\n",
      "Epoch 1/1\n",
      "2150/2150 [==============================] - 10s 5ms/step - loss: 0.0237 - acc: 0.0474 - val_loss: 0.0234 - val_acc: 0.0499\n",
      "Train on 2150 samples, validate on 538 samples\n",
      "Epoch 1/1\n",
      "2150/2150 [==============================] - 9s 4ms/step - loss: 0.0237 - acc: 0.0474 - val_loss: 0.0234 - val_acc: 0.0498\n",
      "Train on 2150 samples, validate on 538 samples\n",
      "Epoch 1/1\n",
      "2150/2150 [==============================] - 10s 5ms/step - loss: 0.0237 - acc: 0.0474 - val_loss: 0.0234 - val_acc: 0.0499\n",
      "Train on 2150 samples, validate on 538 samples\n",
      "Epoch 1/1\n",
      "2150/2150 [==============================] - 10s 4ms/step - loss: 0.0237 - acc: 0.0474 - val_loss: 0.0234 - val_acc: 0.0499\n",
      "Train on 2150 samples, validate on 538 samples\n",
      "Epoch 1/1\n",
      "2150/2150 [==============================] - 9s 4ms/step - loss: 0.0237 - acc: 0.0474 - val_loss: 0.0234 - val_acc: 0.0498\n",
      "Train on 2150 samples, validate on 538 samples\n",
      "Epoch 1/1\n",
      "2150/2150 [==============================] - 9s 4ms/step - loss: 0.0237 - acc: 0.0474 - val_loss: 0.0234 - val_acc: 0.0498\n",
      "Train on 2150 samples, validate on 538 samples\n",
      "Epoch 1/1\n",
      "2150/2150 [==============================] - 9s 4ms/step - loss: 0.0237 - acc: 0.0474 - val_loss: 0.0234 - val_acc: 0.0499\n",
      "Train on 2150 samples, validate on 538 samples\n",
      "Epoch 1/1\n",
      "2150/2150 [==============================] - 10s 5ms/step - loss: 0.0237 - acc: 0.0474 - val_loss: 0.0234 - val_acc: 0.0499\n",
      "Train on 2150 samples, validate on 538 samples\n",
      "Epoch 1/1\n",
      "2150/2150 [==============================] - 10s 5ms/step - loss: 0.0237 - acc: 0.0474 - val_loss: 0.0234 - val_acc: 0.0499\n",
      "Train on 2150 samples, validate on 538 samples\n",
      "Epoch 1/1\n",
      "2150/2150 [==============================] - 9s 4ms/step - loss: 0.0237 - acc: 0.0474 - val_loss: 0.0234 - val_acc: 0.0499\n",
      "Train on 2150 samples, validate on 538 samples\n",
      "Epoch 1/1\n",
      "2150/2150 [==============================] - 10s 4ms/step - loss: 0.0237 - acc: 0.0474 - val_loss: 0.0234 - val_acc: 0.0499\n",
      "Train on 2150 samples, validate on 538 samples\n",
      "Epoch 1/1\n",
      "2150/2150 [==============================] - 10s 4ms/step - loss: 0.0237 - acc: 0.0474 - val_loss: 0.0234 - val_acc: 0.0498\n",
      "Train on 2150 samples, validate on 538 samples\n",
      "Epoch 1/1\n",
      "2150/2150 [==============================] - 9s 4ms/step - loss: 0.0237 - acc: 0.0474 - val_loss: 0.0234 - val_acc: 0.0499\n",
      "Train on 2150 samples, validate on 538 samples\n",
      "Epoch 1/1\n",
      "2150/2150 [==============================] - 9s 4ms/step - loss: 0.0237 - acc: 0.0474 - val_loss: 0.0234 - val_acc: 0.0499\n",
      "Train on 2150 samples, validate on 538 samples\n",
      "Epoch 1/1\n",
      "2150/2150 [==============================] - 10s 5ms/step - loss: 0.0237 - acc: 0.0474 - val_loss: 0.0234 - val_acc: 0.0499\n",
      "Train on 2150 samples, validate on 538 samples\n",
      "Epoch 1/1\n",
      "2150/2150 [==============================] - 9s 4ms/step - loss: 0.0237 - acc: 0.0474 - val_loss: 0.0234 - val_acc: 0.0499\n",
      "Train on 2150 samples, validate on 538 samples\n",
      "Epoch 1/1\n",
      "2150/2150 [==============================] - 10s 4ms/step - loss: 0.0237 - acc: 0.0474 - val_loss: 0.0234 - val_acc: 0.0499\n",
      "Train on 2150 samples, validate on 538 samples\n",
      "Epoch 1/1\n",
      "2150/2150 [==============================] - 9s 4ms/step - loss: 0.0237 - acc: 0.0474 - val_loss: 0.0234 - val_acc: 0.0499\n",
      "Train on 2150 samples, validate on 538 samples\n",
      "Epoch 1/1\n",
      "2150/2150 [==============================] - 9s 4ms/step - loss: 0.0237 - acc: 0.0474 - val_loss: 0.0234 - val_acc: 0.0499\n",
      "Train on 2150 samples, validate on 538 samples\n",
      "Epoch 1/1\n",
      "2150/2150 [==============================] - 9s 4ms/step - loss: 0.0237 - acc: 0.0474 - val_loss: 0.0234 - val_acc: 0.0499\n",
      "Train on 2150 samples, validate on 538 samples\n",
      "Epoch 1/1\n",
      "2150/2150 [==============================] - 9s 4ms/step - loss: 0.0237 - acc: 0.0474 - val_loss: 0.0234 - val_acc: 0.0499\n",
      "Train on 2150 samples, validate on 538 samples\n",
      "Epoch 1/1\n",
      "2150/2150 [==============================] - 10s 4ms/step - loss: 0.0237 - acc: 0.0474 - val_loss: 0.0234 - val_acc: 0.0499\n",
      "Train on 2150 samples, validate on 538 samples\n",
      "Epoch 1/1\n",
      "2150/2150 [==============================] - 9s 4ms/step - loss: 0.0237 - acc: 0.0474 - val_loss: 0.0234 - val_acc: 0.0499\n",
      "Train on 2150 samples, validate on 538 samples\n",
      "Epoch 1/1\n",
      "2150/2150 [==============================] - 9s 4ms/step - loss: 0.0237 - acc: 0.0474 - val_loss: 0.0234 - val_acc: 0.0499\n",
      "Train on 2150 samples, validate on 538 samples\n",
      "Epoch 1/1\n",
      "2150/2150 [==============================] - 9s 4ms/step - loss: 0.0237 - acc: 0.0474 - val_loss: 0.0234 - val_acc: 0.0498\n",
      "Train on 2150 samples, validate on 538 samples\n",
      "Epoch 1/1\n",
      "2150/2150 [==============================] - 9s 4ms/step - loss: 0.0237 - acc: 0.0474 - val_loss: 0.0234 - val_acc: 0.0499\n",
      "Train on 2150 samples, validate on 538 samples\n",
      "Epoch 1/1\n"
     ]
    },
    {
     "name": "stdout",
     "output_type": "stream",
     "text": [
      "2150/2150 [==============================] - 9s 4ms/step - loss: 0.0237 - acc: 0.0474 - val_loss: 0.0234 - val_acc: 0.0499\n",
      "Train on 2150 samples, validate on 538 samples\n",
      "Epoch 1/1\n",
      "2150/2150 [==============================] - 10s 4ms/step - loss: 0.0237 - acc: 0.0474 - val_loss: 0.0234 - val_acc: 0.0499\n",
      "Train on 2150 samples, validate on 538 samples\n",
      "Epoch 1/1\n",
      "2150/2150 [==============================] - 9s 4ms/step - loss: 0.0237 - acc: 0.0474 - val_loss: 0.0234 - val_acc: 0.0499\n",
      "Train on 2150 samples, validate on 538 samples\n",
      "Epoch 1/1\n",
      "2150/2150 [==============================] - 9s 4ms/step - loss: 0.0237 - acc: 0.0474 - val_loss: 0.0234 - val_acc: 0.0499\n",
      "Train on 2150 samples, validate on 538 samples\n",
      "Epoch 1/1\n",
      "2150/2150 [==============================] - 9s 4ms/step - loss: 0.0237 - acc: 0.0474 - val_loss: 0.0234 - val_acc: 0.0499\n",
      "Train on 2150 samples, validate on 538 samples\n",
      "Epoch 1/1\n",
      "2150/2150 [==============================] - 9s 4ms/step - loss: 0.0237 - acc: 0.0474 - val_loss: 0.0234 - val_acc: 0.0499\n",
      "Train on 2150 samples, validate on 538 samples\n",
      "Epoch 1/1\n",
      "2150/2150 [==============================] - 9s 4ms/step - loss: 0.0237 - acc: 0.0474 - val_loss: 0.0234 - val_acc: 0.0499\n",
      "Train on 2150 samples, validate on 538 samples\n",
      "Epoch 1/1\n",
      "2150/2150 [==============================] - 9s 4ms/step - loss: 0.0237 - acc: 0.0474 - val_loss: 0.0234 - val_acc: 0.0499\n",
      "Train on 2150 samples, validate on 538 samples\n",
      "Epoch 1/1\n",
      "2150/2150 [==============================] - 10s 4ms/step - loss: 0.0237 - acc: 0.0474 - val_loss: 0.0234 - val_acc: 0.0499\n",
      "Train on 2150 samples, validate on 538 samples\n",
      "Epoch 1/1\n",
      "2150/2150 [==============================] - 9s 4ms/step - loss: 0.0237 - acc: 0.0474 - val_loss: 0.0234 - val_acc: 0.0499\n"
     ]
    }
   ],
   "source": [
    "epochs = 100\n",
    "loss = []\n",
    "val_loss = []\n",
    "weights = []\n",
    "\n",
    "for epoch in range(epochs):\n",
    "    temp = model.fit(grayimages,filteredimages,\n",
    "                    batch_size=4,epochs=1,validation_split=0.2)\n",
    "    loss.append(temp.history['loss'][0])\n",
    "    val_loss.append(temp.history['val_loss'][0])\n",
    "    weights.append(model.layers[0].get_weights()[0].squeeze())"
   ]
  },
  {
   "cell_type": "code",
   "execution_count": 24,
   "metadata": {},
   "outputs": [],
   "source": [
    "# save the model\n",
    "model.save('cnn_model_sobelx.h5')"
   ]
  },
  {
   "cell_type": "code",
   "execution_count": 25,
   "metadata": {},
   "outputs": [
    {
     "data": {
      "image/png": "[encoded data removed]",
      "text/plain": [
       "<Figure size 432x288 with 1 Axes>"
      ]
     },
     "metadata": {},
     "output_type": "display_data"
    },
    {
     "data": {
      "text/plain": [
       "<Figure size 432x288 with 0 Axes>"
      ]
     },
     "metadata": {},
     "output_type": "display_data"
    }
   ],
   "source": [
    "# plot loss\n",
    "plt.close('all')\n",
    "plt.plot(loss,label='training loss')\n",
    "plt.plot(val_loss, label='validation loss')\n",
    "plt.title('Model Loss')\n",
    "plt.xlabel('epoch')\n",
    "plt.ylabel('loss')\n",
    "plt.legend(loc='upper right')\n",
    "plt.show()\n",
    "plt.savefig('loss_sobelx.jpg')"
   ]
  },
  {
   "cell_type": "code",
   "execution_count": 28,
   "metadata": {},
   "outputs": [
    {
     "data": {
      "image/png": "[encoded data removed]",
      "text/plain": [
       "<Figure size 432x288 with 2 Axes>"
      ]
     },
     "metadata": {},
     "output_type": "display_data"
    }
   ],
   "source": [
    "# plot the weights with last epoch\n",
    "plt.figure()\n",
    "plt.imshow(weights[-1],cmap='hot')\n",
    "plt.colorbar()\n",
    "plt.show()"
   ]
  },
  {
   "cell_type": "code",
   "execution_count": 29,
   "metadata": {},
   "outputs": [],
   "source": [
    "def visualizeMatrix(matrix,epoch=1):\n",
    "    fig = plt.figure(figsize=(10,5))\n",
    "    ax1 = plt.subplot(1,2,1)\n",
    "    ax2 = plt.subplot(1,2,2)\n",
    "    title = 'Epoch {}'.format(epoch)\n",
    "    fig.suptitle(title, fontsize=20)\n",
    "    \n",
    "    height,width = matrix.shape\n",
    "    Mud = np.flipud(matrix) # I don't understand this code. Please tell me if you know\n",
    "    coordinates = [(i,j) for i in range(height) for j in range(width)]\n",
    "    for coordinate in coordinates:\n",
    "        i,j = coordinate\n",
    "        value = np.round(Mud[i,j], decimals=2)\n",
    "        relcoordinate = (j/float(width), i/float(height))\n",
    "        ax1.annotate(value,relcoordinate,ha='left',va='center',\n",
    "                    size=22,alpha=0.7,family='serif')\n",
    "    padding = 0.25\n",
    "    wmargin = (width-1)/float(width) + padding\n",
    "    hmargin = (height-1)/float(height) + padding\n",
    "    \n",
    "    hcenter = np.median(range(height))/float(height)\n",
    "    hcenter = hcenter + 0.015 # offset due to the character alignment\n",
    "    \n",
    "    bracket_d = 0.4\n",
    "    bracket_b = 0.05\n",
    "    bracket_paddingl = 0.05\n",
    "    bracket_paddingr = -0.05\n",
    "    \n",
    "    ax1.plot([-bracket_paddingl,-bracket_paddingl],[hcenter-bracket_d,hcenter+bracket_d],'k-',lw=2,alpha=0.7)\n",
    "    ax1.plot([-bracket_paddingl,-bracket_paddingl+bracket_b],[hcenter-bracket_d,hcenter-bracket_d],'k-',lw=2,alpha=0.7)\n",
    "    ax1.plot([-bracket_paddingl,-bracket_paddingl+bracket_b],[hcenter-bracket_d,hcenter+bracket_d],'k-',lw=2,alpha=0.7)\n",
    "    \n",
    "    ax1.plot([wmargin-bracket_paddingr,wmargin-bracket_paddingr],[hcenter-bracket_d,hcenter+bracket_d],'k-',lw=2,alpha=0.7)\n",
    "    ax1.plot([wmargin-bracket_paddingr-bracket_b,wmargin-bracket_paddingr],[hcenter-bracket_d,hcenter-bracket_d],'k-',lw=2,alpha=0.7)\n",
    "    ax1.plot([wmargin-bracket_paddingr-bracket_b,wmargin-bracket_paddingr],[hcenter+bracket_d,hcenter+bracket_d],'k-',lw=2,alpha=0.7)\n",
    "    \n",
    "    ax1.set_xlim([-padding, wmargin+0.06])\n",
    "    ax1.set_ylim([-padding,hmargin])\n",
    "    \n",
    "    ax1.get_xaxis().set_visible(False)\n",
    "    ax1.get_yaxis().set_visible(False)\n",
    "    ax1.axis('off')\n",
    "    \n",
    "    matshowplt = ax2.matshow(matrix,cmap='hot',vmin=-2,vmax=2)\n",
    "    cbar = plt.colorbar(matshowplt, ax=ax2, fraction=0.046,pad=0.04)\n",
    "    cbar.ax.tick_params(labelsize=18)\n",
    "    cbar.ax.get_yaxis().labelpad=20\n",
    "    cbar.ax.set_ylabel('Weight value',rotation=270,fontsize=20)\n",
    "    ax2.get_xaxis().set_visible(False)\n",
    "    ax2.get_yaxis().set_visible(False)\n",
    "    \n",
    "    plt.tight_layout()\n",
    "    plt.subplots_adjust(wspace=0.5)\n",
    "    \n",
    "    return fig"
   ]
  },
  {
   "cell_type": "code",
   "execution_count": 30,
   "metadata": {},
   "outputs": [],
   "source": [
    "savefolder = 'images/'\n",
    "for i in range(len(weights)):\n",
    "    savepath = savefolder + 'weightfigure' + str(i) + '.jpg'\n",
    "    matrix = weights[i]\n",
    "    fig = visualizeMatrix(matrix,epoch=i+1)\n",
    "    fig.savefig(savepath)\n",
    "    plt.close()"
   ]
  },
  {
   "cell_type": "code",
   "execution_count": 33,
   "metadata": {},
   "outputs": [],
   "source": [
    "# transform the static images into a dynamic image\n",
    "\n",
    "import imageio\n",
    "from natsort import natsorted\n",
    "\n",
    "image_dir = 'images/'\n",
    "imagepaths = [os.path.join(image_dir,filename) for filename in os.listdir(image_dir) if filename.endswith('.jpg')]\n",
    "imagepaths = natsorted(imagepaths)\n",
    "\n",
    "with imageio.get_writer('weight.gif',mode='I') as writer:\n",
    "    for path in imagepaths:\n",
    "        image = imageio.imread(path)\n",
    "        writer.append_data(image)"
   ]
  },
  {
   "cell_type": "code",
   "execution_count": 42,
   "metadata": {},
   "outputs": [
    {
     "data": {
      "text/plain": [
       "True"
      ]
     },
     "execution_count": 42,
     "metadata": {},
     "output_type": "execute_result"
    }
   ],
   "source": [
    "pred_img = model.predict(np.array([gray_img.reshape(256,256,1)])).squeeze()\n",
    "\n",
    "margin = np.ones(shape=(256,10,3))\n",
    "combined_image = np.hstack((np.dstack((normalizeImage(pred_img),)*3), margin, np.dstack((normalizeImage(filtered_img),)*3)))\n",
    "\n",
    "cv2.imwrite('predicted_sobelx.jpg',(255*combined_image).astype(np.uint8))"
   ]
  },
  {
   "cell_type": "code",
   "execution_count": null,
   "metadata": {},
   "outputs": [],
   "source": []
  }
 ],
 "metadata": {
  "kernelspec": {
   "display_name": "Python 3",
   "language": "python",
   "name": "python3"
  },
  "language_info": {
   "codemirror_mode": {
    "name": "ipython",
    "version": 3
   },
   "file_extension": ".py",
   "mimetype": "text/x-python",
   "name": "python",
   "nbconvert_exporter": "python",
   "pygments_lexer": "ipython3",
   "version": "3.6.5"
  }
 },
 "nbformat": 4,
 "nbformat_minor": 2
}
